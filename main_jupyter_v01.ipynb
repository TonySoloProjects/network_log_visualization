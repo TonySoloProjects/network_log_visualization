{
 "cells": [
  {
   "cell_type": "code",
   "execution_count": 1,
   "id": "choice-nickname",
   "metadata": {},
   "outputs": [
    {
     "name": "stdout",
     "output_type": "stream",
     "text": [
      "2917 lines successfully read from file: data_log_files/weight_node_node2.txt\n",
      "11486 total errors detected.\n",
      "A total of 175 unique nodes were detected in the log file\n",
      "175 nodes had send errors.\n",
      "38 nodes had receive errors.\n",
      "****************************************************************************************************\n",
      "The top 25 servers with receiving fails\n",
      "             fails\n",
      "receiver          \n",
      "10.12.4.13    1490\n",
      "10.12.4.93     875\n",
      "10.12.4.109    691\n",
      "10.12.4.245    530\n",
      "10.12.4.1      475\n",
      "10.12.5.13     463\n",
      "10.12.5.61     454\n",
      "10.12.5.5      454\n",
      "10.12.5.77     446\n",
      "10.12.5.85     445\n",
      "10.12.6.53     442\n",
      "10.12.5.45     439\n",
      "10.12.4.253    437\n",
      "10.12.4.17     432\n",
      "10.12.4.237    426\n",
      "10.12.4.0      414\n",
      "10.12.5.21     408\n",
      "10.12.5.53     395\n",
      "10.12.3.248    378\n",
      "10.12.4.229    373\n",
      "10.12.5.29     362\n",
      "10.12.3.249    337\n",
      "10.12.4.16     285\n",
      "10.12.4.90      12\n",
      "10.12.4.234      4\n",
      "\n",
      "The top 25 servers with sending fails\n",
      "             fails\n",
      "sender            \n",
      "10.12.5.32     160\n",
      "10.12.4.224    155\n",
      "10.12.5.80     150\n",
      "10.12.5.64     149\n",
      "10.12.5.8      128\n",
      "10.12.5.0      127\n",
      "10.12.4.1      127\n",
      "10.12.3.250    126\n",
      "10.12.5.81     122\n",
      "10.12.3.255    121\n",
      "10.12.4.233    120\n",
      "10.12.4.248    119\n",
      "10.12.3.248    116\n",
      "10.12.4.232    115\n",
      "10.12.4.250    113\n",
      "10.12.5.68     107\n",
      "10.12.4.19     103\n",
      "10.12.4.255    103\n",
      "10.12.4.4      102\n",
      "10.12.4.228    101\n",
      "10.12.4.12     100\n",
      "10.12.4.9       99\n",
      "10.12.4.254     98\n",
      "10.12.4.6       97\n",
      "10.12.4.252     95\n",
      "****************************************************************************************************\n",
      "\n",
      "Your selected python environment is: jupyter\n",
      "edge_type='Send+Receive' and plot_node='10.12.4.13'\n"
     ]
    },
    {
     "data": {
      "image/png": "[encoded data removed]",
      "text/plain": [
       "<Figure size 432x288 with 1 Axes>"
      ]
     },
     "metadata": {
      "needs_background": "light"
     },
     "output_type": "display_data"
    }
   ],
   "source": [
    "\"\"\"\n",
    "Routines to interactively visualize network server error log files\n",
    "to graphically determine which servers tend to fail and to potentially\n",
    "relations between failing connections.\n",
    "\n",
    "Created by: Tony Held tony.held@gmail.com\n",
    "Created on: 2020/09/10\n",
    "Copyright © 2020 Tony Held.  All rights reserved.\n",
    "\"\"\"\n",
    "\n",
    "from IPython.display import display\n",
    "\n",
    "from network_log_reader_v02 import NetworkLogReader\n",
    "from network_log_plotter_v02 import NetworkLogPlotter\n",
    "\n",
    "if __name__ == \"__main__\":\n",
    "\n",
    "    # Select log file and initialize reader/plotter\n",
    "    # ---------------------------------------------\n",
    "    error_log_file = \"data_log_files/weight_node_node2.txt\"\n",
    "    nlr = NetworkLogReader(error_log_file)\n",
    "    nlp = NetworkLogPlotter()\n",
    "\n",
    "    # Select your IDE type.\n",
    "    # ----------------------\n",
    "    # Note that only jupyter fully supports the widget plots used in this analysis\n",
    "#     python_environment = 'Pycharm'\n",
    "    python_environment = 'jupyter'\n",
    "\n",
    "    # Select the edge_type and node for the initial plot rendering\n",
    "    # ------------------------------------------------------------\n",
    "    # edge_types can be ['Send', 'Receive', 'Send+Receive']\n",
    "    edge_type = 'Send+Receive'\n",
    "    # a good starting plot_node is likely\n",
    "    # nlr.receiver_fails_name[0] or nlr.sender_fails_name[1]\n",
    "    plot_node = nlr.receiver_fails_name[0]\n",
    "\n",
    "    print(f'Your selected python environment is: {python_environment}')\n",
    "    print(f'{edge_type=} and {plot_node=}')\n",
    "\n",
    "    # Create cumulative error figure\n",
    "    if True:\n",
    "        nlp.plot_cumulative_errors(nlr.sender_fails_count, nlr.receiver_fails_count)\n",
    "\n",
    "    # plot_network1 uses slow built-in routines and you should use plot_network3 instead\n",
    "    if False:\n",
    "        nlp.plot_network1(nlr.send_graph, nlr.plot_data)\n",
    "\n",
    "    # plot_network3 is the primary plot of interest to show failure relations.\n",
    "    fig01 = nlp.plot_network3(nlr, plot_node, edge_type)\n",
    "\n",
    "    # Figure widget interactive ability is only available in jupyter environment\n",
    "    # if the environment is Pycharm, then only a static html file will be created.\n",
    "    if python_environment == 'Pycharm':\n",
    "        # Use .show() when in pycharm for static html figure\n",
    "        fig01.show()\n",
    "    elif python_environment == 'jupyter':\n",
    "        # Use display in jupyter for interactive widgets\n",
    "        node_hb, drop = nlp.make_widgets(nlr, fig01)\n",
    "#         display(node_hb)\n",
    "#         display(drop)\n",
    "#         display(fig01)"
   ]
  },
  {
   "cell_type": "code",
   "execution_count": 2,
   "id": "illegal-mauritius",
   "metadata": {},
   "outputs": [
    {
     "data": {
      "application/vnd.jupyter.widget-view+json": {
       "model_id": "4e142dd1933346ba972327538b01db9e",
       "version_major": 2,
       "version_minor": 0
      },
      "text/plain": [
       "HBox(children=(IntSlider(value=0, description='Node #: ', max=174), Label(value='Node Name: 10.12.3.248')))"
      ]
     },
     "metadata": {},
     "output_type": "display_data"
    },
    {
     "data": {
      "application/vnd.jupyter.widget-view+json": {
       "model_id": "352d4ce6421c4a50a7db033a041f67ed",
       "version_major": 2,
       "version_minor": 0
      },
      "text/plain": [
       "Dropdown(description='Errors: ', index=2, options=('Send', 'Receive', 'Send+Receive'), value='Send+Receive')"
      ]
     },
     "metadata": {},
     "output_type": "display_data"
    },
    {
     "data": {
      "application/vnd.jupyter.widget-view+json": {
       "model_id": "e1d1836ffaf74acca514a3860bd9b6d0",
       "version_major": 2,
       "version_minor": 0
      },
      "text/plain": [
       "FigureWidget({\n",
       "    'data': [{'hoverinfo': 'text',\n",
       "              'marker': {'color': [494, 430, 126, 61, 79, 68…"
      ]
     },
     "metadata": {},
     "output_type": "display_data"
    }
   ],
   "source": [
    "display(node_hb)\n",
    "display(drop)\n",
    "display(fig01)  # Use display when in jupyter"
   ]
  },
  {
   "cell_type": "code",
   "execution_count": null,
   "id": "intelligent-bosnia",
   "metadata": {},
   "outputs": [],
   "source": []
  }
 ],
 "metadata": {
  "kernelspec": {
   "display_name": "Python 3",
   "language": "python",
   "name": "python3"
  },
  "language_info": {
   "codemirror_mode": {
    "name": "ipython",
    "version": 3
   },
   "file_extension": ".py",
   "mimetype": "text/x-python",
   "name": "python",
   "nbconvert_exporter": "python",
   "pygments_lexer": "ipython3",
   "version": "3.8.8"
  }
 },
 "nbformat": 4,
 "nbformat_minor": 5
}
